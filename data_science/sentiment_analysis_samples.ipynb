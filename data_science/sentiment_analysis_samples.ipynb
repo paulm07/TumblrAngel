{
 "cells": [
  {
   "cell_type": "markdown",
   "metadata": {},
   "source": [
    "# ISS Example"
   ]
  },
  {
   "cell_type": "code",
   "execution_count": 6,
   "metadata": {},
   "outputs": [],
   "source": [
    "import requests"
   ]
  },
  {
   "cell_type": "code",
   "execution_count": 7,
   "metadata": {},
   "outputs": [],
   "source": [
    "response = requests.get(\"http://api.open-notify.org/iss-now.json\")"
   ]
  },
  {
   "cell_type": "code",
   "execution_count": 8,
   "metadata": {},
   "outputs": [
    {
     "data": {
      "text/plain": [
       "{'Server': 'nginx/1.10.3', 'Date': 'Sat, 15 Sep 2018 18:07:15 GMT', 'Content-Type': 'application/json', 'Content-Length': '112', 'Connection': 'keep-alive', 'access-control-allow-origin': '*'}"
      ]
     },
     "execution_count": 8,
     "metadata": {},
     "output_type": "execute_result"
    }
   ],
   "source": [
    "response.headers"
   ]
  },
  {
   "cell_type": "code",
   "execution_count": 9,
   "metadata": {},
   "outputs": [
    {
     "data": {
      "text/plain": [
       "'{\"message\": \"success\", \"iss_position\": {\"latitude\": \"24.0475\", \"longitude\": \"41.6018\"}, \"timestamp\": 1537034835}'"
      ]
     },
     "execution_count": 9,
     "metadata": {},
     "output_type": "execute_result"
    }
   ],
   "source": [
    "response.text"
   ]
  },
  {
   "cell_type": "markdown",
   "metadata": {},
   "source": [
    "# Sentiment Analysis API"
   ]
  },
  {
   "cell_type": "code",
   "execution_count": 2,
   "metadata": {},
   "outputs": [],
   "source": [
    "import requests"
   ]
  },
  {
   "cell_type": "code",
   "execution_count": 3,
   "metadata": {},
   "outputs": [],
   "source": [
    "url = \"http://text-processing.com/api/sentiment/\"\n",
    "headers = {}"
   ]
  },
  {
   "cell_type": "code",
   "execution_count": 44,
   "metadata": {},
   "outputs": [
    {
     "name": "stdout",
     "output_type": "stream",
     "text": [
      "200\n",
      "{\"probability\": {\"neg\": 0.25669842611988303, \"neutral\": 0.26175572807072145, \"pos\": 0.74330157388011697}, \"label\": \"pos\"}\n"
     ]
    }
   ],
   "source": [
    "payload = {\"language\": \"english\", \"text\": \"happy\"}\n",
    "response = requests.post(url, data = payload, headers = headers)\n",
    "print(response.status_code)\n",
    "print(response.text)"
   ]
  },
  {
   "cell_type": "code",
   "execution_count": 46,
   "metadata": {},
   "outputs": [
    {
     "name": "stdout",
     "output_type": "stream",
     "text": [
      "200\n",
      "{\"probability\": {\"neg\": 0.53964208679036518, \"neutral\": 0.028589990331323433, \"pos\": 0.46035791320963482}, \"label\": \"neg\"}\n"
     ]
    }
   ],
   "source": [
    "payload = {\"language\": \"english\", \"text\": \"i am not happy at all\"}\n",
    "response = requests.post(url, data = payload, headers = headers)\n",
    "print(response.status_code)\n",
    "print(response.text)"
   ]
  },
  {
   "cell_type": "code",
   "execution_count": 4,
   "metadata": {},
   "outputs": [],
   "source": [
    "sample = \"Lots and lots of sketches of the dog at the studio I‘m interning at. She lies in front of my feet all day, slightly changes her pose every few minutes and accepts the occasional pet and scratch in return for her modeling services\""
   ]
  },
  {
   "cell_type": "code",
   "execution_count": 5,
   "metadata": {},
   "outputs": [
    {
     "name": "stdout",
     "output_type": "stream",
     "text": [
      "200\n",
      "{\"probability\": {\"neg\": 0.77054679903047885, \"neutral\": 0.78874954723308244, \"pos\": 0.2294532009695211}, \"label\": \"neutral\"}\n"
     ]
    }
   ],
   "source": [
    "payload = {\"language\": \"english\", \"text\": sample}\n",
    "response = requests.post(url, data = payload, headers = headers)\n",
    "print(response.status_code)\n",
    "print(response.text)"
   ]
  },
  {
   "cell_type": "code",
   "execution_count": 10,
   "metadata": {},
   "outputs": [],
   "source": [
    "sample = \"Baden was laid down in 1913, Bayern and Sachsen followed in 1914, and Württemberg, the final ship, was laid down in 1915. Only Baden and Bayern were completed, due to shipbuilding priorities changing as the war dragged on. It was determined\""
   ]
  },
  {
   "cell_type": "code",
   "execution_count": 11,
   "metadata": {},
   "outputs": [
    {
     "name": "stdout",
     "output_type": "stream",
     "text": [
      "200\n",
      "{\"probability\": {\"neg\": 0.68301557738438978, \"neutral\": 0.71224297115768487, \"pos\": 0.31698442261561027}, \"label\": \"neutral\"}\n"
     ]
    }
   ],
   "source": [
    "payload = {\"language\": \"english\", \"text\": sample}\n",
    "response = requests.post(url, data = payload, headers = headers)\n",
    "print(response.status_code)\n",
    "print(response.text)"
   ]
  },
  {
   "cell_type": "code",
   "execution_count": 12,
   "metadata": {},
   "outputs": [],
   "source": [
    "sample = \"I’m going to kill myself, and this isn’t a cry for help. I just need someone to come over here and clean up the mess.\""
   ]
  },
  {
   "cell_type": "code",
   "execution_count": 13,
   "metadata": {},
   "outputs": [
    {
     "name": "stdout",
     "output_type": "stream",
     "text": [
      "200\n",
      "{\"probability\": {\"neg\": 0.80043998561918606, \"neutral\": 0.14616867477453538, \"pos\": 0.19956001438081392}, \"label\": \"neg\"}\n"
     ]
    }
   ],
   "source": [
    "payload = {\"language\": \"english\", \"text\": sample}\n",
    "response = requests.post(url, data = payload, headers = headers)\n",
    "print(response.status_code)\n",
    "print(response.text)"
   ]
  },
  {
   "cell_type": "markdown",
   "metadata": {},
   "source": [
    "# Parsing JSON"
   ]
  },
  {
   "cell_type": "code",
   "execution_count": 14,
   "metadata": {},
   "outputs": [],
   "source": [
    "import json"
   ]
  }
 ],
 "metadata": {
  "kernelspec": {
   "display_name": "Python 3",
   "language": "python",
   "name": "python3"
  },
  "language_info": {
   "codemirror_mode": {
    "name": "ipython",
    "version": 3
   },
   "file_extension": ".py",
   "mimetype": "text/x-python",
   "name": "python",
   "nbconvert_exporter": "python",
   "pygments_lexer": "ipython3",
   "version": "3.6.5"
  }
 },
 "nbformat": 4,
 "nbformat_minor": 2
}
